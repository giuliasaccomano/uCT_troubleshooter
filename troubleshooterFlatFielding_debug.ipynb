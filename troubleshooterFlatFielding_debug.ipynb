{
 "cells": [
  {
   "attachments": {},
   "cell_type": "markdown",
   "metadata": {},
   "source": [
    "## DEBUG n.1 - Main"
   ]
  },
  {
   "cell_type": "code",
   "execution_count": null,
   "metadata": {},
   "outputs": [],
   "source": [
    "import numpy as np\n",
    "import re\n",
    "import matplotlib.pylab as plt \n",
    "%matplotlib inline\n",
    "import os\n",
    "import tifffile as tiff"
   ]
  },
  {
   "cell_type": "code",
   "execution_count": null,
   "metadata": {},
   "outputs": [],
   "source": [
    "indir = 'H:\\\\Fanti_Muscioni\\\\Y3_Xm45\\\\'\n",
    "\n",
    "flatdir = os.path.join(indir, 'flat\\\\')\n",
    "darkdir = os.path.join(indir, 'dark\\\\')\n",
    "tomodir = os.path.join(indir, 'tomo\\\\')\n",
    "\n",
    "outdir = os.path.join(indir, 'out\\\\')"
   ]
  },
  {
   "attachments": {},
   "cell_type": "markdown",
   "metadata": {},
   "source": [
    "Create output directory"
   ]
  },
  {
   "cell_type": "code",
   "execution_count": null,
   "metadata": {},
   "outputs": [],
   "source": [
    "if not os.path.exists(outdir):\n",
    "    os.makedirs(outdir)"
   ]
  },
  {
   "attachments": {},
   "cell_type": "markdown",
   "metadata": {},
   "source": [
    "Rebin function"
   ]
  },
  {
   "cell_type": "code",
   "execution_count": null,
   "metadata": {},
   "outputs": [],
   "source": [
    "def rebin(img, bin_fact):\n",
    "    \"\"\" \n",
    "    Scale the image of a n-factor \n",
    "    \"\"\"\n",
    "    dim1, dim2 = img.shape\n",
    "    shape = np.array([dim1/bin_fact, dim2/bin_fact]).astype(int)\n",
    "    sh = shape[0],img.shape[0]//shape[0],shape[1],img.shape[1]//shape[1]\n",
    "    return img.reshape(sh).mean(-1).mean(1)"
   ]
  },
  {
   "attachments": {},
   "cell_type": "markdown",
   "metadata": {},
   "source": [
    "Numerical sort function"
   ]
  },
  {
   "cell_type": "code",
   "execution_count": null,
   "metadata": {},
   "outputs": [],
   "source": [
    "def numericalSort(value):\n",
    "    \"\"\" \n",
    "    Returns the element in the list or array \"value\" sorted by their numerical order \n",
    "    \"\"\"\n",
    "    numbers = re.compile(r'(\\d+)')\n",
    "    parts = numbers.split(value)\n",
    "    parts[1::2] = map(int, parts[1::2])\n",
    "    return parts"
   ]
  },
  {
   "attachments": {},
   "cell_type": "markdown",
   "metadata": {},
   "source": [
    "Show image function"
   ]
  },
  {
   "cell_type": "code",
   "execution_count": null,
   "metadata": {},
   "outputs": [],
   "source": [
    "def showImage(img, string, dpi):\n",
    "    dim1, dim2 = img.shape\n",
    "    fig = plt.figure(frameon = False)\n",
    "    fig.set_size_inches(dim1/dpi, dim2/dpi)\n",
    "    ax = plt.Axes(fig, [0., 0., 1., 1.])\n",
    "    ax.set_axis_off()\n",
    "    fig.add_axes(ax)\n",
    "    plt.imshow(img, cmap = 'gray')\n",
    "    plt.colorbar()\n",
    "    plt.title(string)"
   ]
  },
  {
   "attachments": {},
   "cell_type": "markdown",
   "metadata": {},
   "source": [
    "Find outlier Pixels Function"
   ]
  },
  {
   "cell_type": "code",
   "execution_count": 1,
   "metadata": {},
   "outputs": [],
   "source": [
    "def find_outlier_pixels(data,worry_about_edges=True):\n",
    "    #This function finds the hot or dead pixels in a 2D dataset. \n",
    "    #tolerance is the number of standard deviations used to cutoff the hot pixels\n",
    "    #If you want to ignore the edges and greatly speed up the code, then set\n",
    "    #worry_about_edges to False.\n",
    "    #\n",
    "    #The function returns a list of hot pixels and also an image with with hot pixels removed\n",
    "\n",
    "    from scipy.ndimage import median_filter\n",
    "    blurred = median_filter(data, size=2)\n",
    "    difference = data - blurred\n",
    "    threshold = 10*np.std(difference)\n",
    "\n",
    "    #find the hot pixels, but ignore the edges\n",
    "    hot_pixels = np.nonzero((np.abs(difference[1:-1,1:-1])>threshold) )\n",
    "    hot_pixels = np.array(hot_pixels) + 1 #because we ignored the first row and first column\n",
    "\n",
    "    fixed_image = np.copy(data) #This is the image with the hot pixels removed\n",
    "    for y,x in zip(hot_pixels[0],hot_pixels[1]):\n",
    "        fixed_image[y,x]=blurred[y,x]\n",
    "\n",
    "    if worry_about_edges == True:\n",
    "        height,width = np.shape(data)\n",
    "\n",
    "        ###Now get the pixels on the edges (but not the corners)###\n",
    "\n",
    "        #left and right sides\n",
    "        for index in range(1,height-1):\n",
    "            #left side:\n",
    "            med  = np.median(data[index-1:index+2,0:2])\n",
    "            diff = np.abs(data[index,0] - med)\n",
    "            if diff>threshold: \n",
    "                hot_pixels = np.hstack(( hot_pixels, [[index],[0]]  ))\n",
    "                fixed_image[index,0] = med\n",
    "\n",
    "            #right side:\n",
    "            med  = np.median(data[index-1:index+2,-2:])\n",
    "            diff = np.abs(data[index,-1] - med)\n",
    "            if diff>threshold: \n",
    "                hot_pixels = np.hstack(( hot_pixels, [[index],[width-1]]  ))\n",
    "                fixed_image[index,-1] = med\n",
    "\n",
    "        #Then the top and bottom\n",
    "        for index in range(1,width-1):\n",
    "            #bottom:\n",
    "            med  = np.median(data[0:2,index-1:index+2])\n",
    "            diff = np.abs(data[0,index] - med)\n",
    "            if diff>threshold: \n",
    "                hot_pixels = np.hstack(( hot_pixels, [[0],[index]]  ))\n",
    "                fixed_image[0,index] = med\n",
    "\n",
    "            #top:\n",
    "            med  = np.median(data[-2:,index-1:index+2])\n",
    "            diff = np.abs(data[-1,index] - med)\n",
    "            if diff>threshold: \n",
    "                hot_pixels = np.hstack(( hot_pixels, [[height-1],[index]]  ))\n",
    "                fixed_image[-1,index] = med\n",
    "\n",
    "        ###Then the corners###\n",
    "\n",
    "        #bottom left\n",
    "        med  = np.median(data[0:2,0:2])\n",
    "        diff = np.abs(data[0,0] - med)\n",
    "        if diff>threshold: \n",
    "            hot_pixels = np.hstack(( hot_pixels, [[0],[0]]  ))\n",
    "            fixed_image[0,0] = med\n",
    "\n",
    "        #bottom right\n",
    "        med  = np.median(data[0:2,-2:])\n",
    "        diff = np.abs(data[0,-1] - med)\n",
    "        if diff>threshold: \n",
    "            hot_pixels = np.hstack(( hot_pixels, [[0],[width-1]]  ))\n",
    "            fixed_image[0,-1] = med\n",
    "\n",
    "        #top left\n",
    "        med  = np.median(data[-2:,0:2])\n",
    "        diff = np.abs(data[-1,0] - med)\n",
    "        if diff>threshold: \n",
    "            hot_pixels = np.hstack(( hot_pixels, [[height-1],[0]]  ))\n",
    "            fixed_image[-1,0] = med\n",
    "\n",
    "        #top right\n",
    "        med  = np.median(data[-2:,-2:])\n",
    "        diff = np.abs(data[-1,-1] - med)\n",
    "        if diff>threshold: \n",
    "            hot_pixels = np.hstack(( hot_pixels, [[height-1],[width-1]]  ))\n",
    "            fixed_image[-1,-1] = med\n",
    "\n",
    "    return fixed_image,hot_pixels"
   ]
  },
  {
   "attachments": {},
   "cell_type": "markdown",
   "metadata": {},
   "source": [
    "## Main - Trouble Shooter Flat Field Correction\n",
    "\n",
    "+ Binning 2 in x and y\n",
    "+ Binning 2 in z (when required)\n",
    "+ Problema linee morte detector"
   ]
  },
  {
   "cell_type": "code",
   "execution_count": null,
   "metadata": {},
   "outputs": [],
   "source": [
    "### --- FLAT\n",
    "\n",
    "flat_list = os.listdir(flatdir)\n",
    "n_flat = len(flat_list)\n",
    "\n",
    "flat_n1 = tiff.imread(os.path.join(flatdir, flat_list[0]))\n",
    "dim1,dim2 = flat_n1.shape\n",
    "\n",
    "flat_mean = np.zeros([dim1,dim2])\n",
    "for i in sorted(flat_list, key = numericalSort):\n",
    "    flat_img = tiff.imread(os.path.join(flatdir,i))\n",
    "    flat_mean = flat_mean + flat_img \n",
    "\n",
    "flat_mean = flat_mean / n_flat\n",
    "showImage(flat_mean, 'flat average', 400)\n",
    "\n",
    "### --- DARK\n",
    "\n",
    "dark_list = os.listdir(darkdir)\n",
    "n_dark = len(dark_list)\n",
    "\n",
    "dark_mean = np.zeros([dim1,dim2])\n",
    "for i in sorted(dark_list, key = numericalSort):\n",
    "    # dark_img = plt.imread(os.path.join(dark_path,i))\n",
    "    dark_img = tiff.imread(os.path.join(darkdir,i))\n",
    "    dark_mean = dark_mean + dark_img\n",
    "\n",
    "dark_mean = dark_mean / n_dark\n",
    "showImage(dark_mean,'dark average', 400)"
   ]
  },
  {
   "cell_type": "code",
   "execution_count": null,
   "metadata": {},
   "outputs": [],
   "source": [
    "### --- FLAT - DARK\n",
    "\n",
    "flat_dark = flat_mean - dark_mean"
   ]
  },
  {
   "cell_type": "code",
   "execution_count": null,
   "metadata": {},
   "outputs": [],
   "source": [
    "### --- Avoid division per 0\n",
    "div0 = np.argwhere(flat_dark == 0)\n",
    "print(div0)\n",
    "for i in range(div0.shape[0]):\n",
    "    flat_dark[div0[i,0], div0[i,1]] = 1\n",
    "\n",
    "#showImage(flat_dark, 'flat - dark', 250)\n",
    "\n",
    "fig, (ax1, ax2) = plt.subplots(1, 2)\n",
    "fig.set_size_inches(18.5, 10.5)\n",
    "ax1.imshow(flat_dark[550:580,1830:1850])\n",
    "\n",
    "corrupt_line = 1834\n",
    "\n",
    "kernel_col = np.column_stack((flat_dark[:,(corrupt_line-1)], flat_dark[:,corrupt_line+2]))\n",
    "flat_dark = np.column_stack((flat_dark[:,:corrupt_line], np.floor(np.median(kernel_col, axis=1)), flat_dark[:,corrupt_line+1:]))\n",
    "\n",
    "ax2.imshow(flat_dark[550:580,1830:1850])\n",
    "#tiff.imsave(os.path.join(outdir, 'flat_dark.tif'), np.rot90(np.uint16(flat_dark)))"
   ]
  },
  {
   "cell_type": "code",
   "execution_count": null,
   "metadata": {},
   "outputs": [],
   "source": [
    "### --- Normalization\n",
    "\n",
    "v_max = 1.45 # or 1.25 ?\n",
    "v_min = 0.0\n",
    "\n",
    "m = 65535 / (v_max - v_min)\n",
    "q = m*v_min"
   ]
  },
  {
   "attachments": {},
   "cell_type": "markdown",
   "metadata": {},
   "source": [
    "ALL TOGETHER LOOP:\n",
    "+ dead pixels correction, dead areas correction, corrupte column correction\n",
    "+ binning 2 (in z)\n",
    "+ flat field correction on two images"
   ]
  },
  {
   "cell_type": "code",
   "execution_count": null,
   "metadata": {},
   "outputs": [],
   "source": [
    "corrupt_value = 32768\n",
    "corrupt_line = 1834\n",
    "\n",
    "tomo_list = os.listdir(tomodir)\n",
    "n_tomo = len(tomo_list)\n",
    "\n",
    "idx = 0\n",
    "extracted_lines = []\n",
    "for i in range(0,n_tomo-1,2):\n",
    "    print(tomo_list[i], '-', tomo_list[i+1])\n",
    "    img0 = tiff.imread(os.path.join(tomodir, tomo_list[i]))\n",
    "    img1 = tiff.imread(os.path.join(tomodir, tomo_list[i+1]))\n",
    "    dead_c0 = np.argwhere(img0 == corrupt_value)\n",
    "    dead_c1 = np.argwhere(img1 == corrupt_value)\n",
    "    #print(dead_c1)\n",
    "    # COLUMNS PROBLEMS\n",
    "    if dead_c0.shape[0] > 1:\n",
    "        for j in range(dead_c0.shape[0]):\n",
    "            img0[dead_c0[j,0], dead_c0[j,1]] = img1[dead_c0[j,0], dead_c0[j,1]] \n",
    "    elif dead_c1.shape[0] > 1:\n",
    "        for j in range(dead_c1.shape[0]):\n",
    "            img1[dead_c1[j,0], dead_c1[j,1]] = img0[dead_c1[j,0], dead_c1[j,1]]\n",
    "    # A FEW DEAD PIXELS\n",
    "    if dead_c0.shape[0] == 1:\n",
    "        pos0 = dead_c0[0,0]\n",
    "        pos1 = dead_c0[0,1]\n",
    "        kernel = np.array([img0[pos0-1:pos0+1, pos1-1], img0[pos0-1:pos0+1,pos1-1]])\n",
    "        img0[dead_c0[0,0], dead_c0[0,1]] = np.median(kernel) \n",
    "    elif dead_c1.shape[0] == 1:\n",
    "        pos0 = dead_c1[0,0]\n",
    "        pos1 = dead_c1[0,1]\n",
    "        kernel = np.array([img1[pos0-1:pos0+1, pos1-1], img1[pos0-1:pos0+1,pos1-1]])\n",
    "        img1[dead_c1[0,0], dead_c1[0,1]] = np.median(kernel)\n",
    "    # DEAD PIXELS COLUMN \n",
    "    kernel_col = np.column_stack((img0[:,(corrupt_line-1)], img0[:,corrupt_line+2]))\n",
    "    img0 = np.column_stack((img0[:,:corrupt_line], np.floor(np.median(kernel_col, axis=1)), img0[:,corrupt_line+1:]))\n",
    "    kernel_col2 = np.column_stack((img1[:,(corrupt_line-1)], img1[:,corrupt_line+2]))\n",
    "    img1 = np.column_stack((img1[:,:corrupt_line], np.floor(np.median(kernel_col, axis=1)), img1[:,corrupt_line+1:]))\n",
    "    # MORE DEAD PIXELS\n",
    "    img0,_ = find_outlier_pixels(img0)\n",
    "    img1,_ = find_outlier_pixels(img1)\n",
    "    # FINALLY DO THE FLAT FIELD CORRECTION\n",
    "    tomo_i0 = np.divide((img0 - dark_mean), (flat_dark))\n",
    "    tomo_i1 = np.divide((img1 - dark_mean), (flat_dark))\n",
    "    tomo_img = (tomo_i0 + tomo_i1)/2\n",
    "    tomo_img = rebin(tomo_img,2)\n",
    "    tomo_norm = (m*tomo_img)+q\n",
    "    tomo_def = np.rot90(np.uint16(tomo_norm))\n",
    "    tiff.imsave(os.path.join(outdir, 'tomo_' + f'{idx:04}' + '.tif'), tomo_def)\n",
    "    if i == n_tomo-1:\n",
    "        print('Conversione finita')\n",
    "        showImage(tomo_def, 'tomo ffc', 250)\n",
    "        break\n",
    "    idx += 1"
   ]
  },
  {
   "attachments": {},
   "cell_type": "markdown",
   "metadata": {},
   "source": [
    "Fight corrupted pixels, corrupted areas and corrupted columns"
   ]
  },
  {
   "cell_type": "code",
   "execution_count": null,
   "metadata": {},
   "outputs": [],
   "source": [
    "corrupt_value = 32768\n",
    "corrupt_line = 1834\n",
    "\n",
    "tomo_list = os.listdir(tomodir)\n",
    "n_tomo = len(tomo_list)\n",
    "\n",
    "nocorrdir = os.path.join(indir, 'tomo_nocorr\\\\')\n",
    "if not os.path.exists(nocorrdir):\n",
    "    os.makedirs(nocorrdir)\n",
    "idx = 0\n",
    "extracted_lines = []\n",
    "for i in range(0,n_tomo-1,2):\n",
    "    print(tomo_list[i], '-', tomo_list[i+1])\n",
    "    img0 = tiff.imread(os.path.join(tomodir, tomo_list[i]))\n",
    "    img1 = tiff.imread(os.path.join(tomodir, tomo_list[i+1]))\n",
    "    dead_c0 = np.argwhere(img0 == corrupt_value)\n",
    "    dead_c1 = np.argwhere(img1 == corrupt_value)\n",
    "    #print(dead_c1)\n",
    "    # COLUMNS PROBLEMS\n",
    "    if dead_c0.shape[0] > 1:\n",
    "        for j in range(dead_c0.shape[0]):\n",
    "            img0[dead_c0[j,0], dead_c0[j,1]] = img1[dead_c0[j,0], dead_c0[j,1]] \n",
    "    elif dead_c1.shape[0] > 1:\n",
    "        for j in range(dead_c1.shape[0]):\n",
    "            img1[dead_c1[j,0], dead_c1[j,1]] = img0[dead_c1[j,0], dead_c1[j,1]]\n",
    "    # A FEW DEAD PIXELS\n",
    "    if dead_c0.shape[0] == 1:\n",
    "        pos0 = dead_c0[0,0]\n",
    "        pos1 = dead_c0[0,1]\n",
    "        kernel = np.array([img0[pos0-1:pos0+1, pos1-1], img0[pos0-1:pos0+1,pos1-1]])\n",
    "        img0[dead_c0[0,0], dead_c0[0,1]] = np.median(kernel) \n",
    "    elif dead_c1.shape[0] == 1:\n",
    "        pos0 = dead_c1[0,0]\n",
    "        pos1 = dead_c1[0,1]\n",
    "        kernel = np.array([img1[pos0-1:pos0+1, pos1-1], img1[pos0-1:pos0+1,pos1-1]])\n",
    "        img1[dead_c1[0,0], dead_c1[0,1]] = np.median(kernel)\n",
    "    # DEAD PIXELS COLUMN \n",
    "    kernel_col = np.column_stack((img0[:,(corrupt_line-1)], img0[:,corrupt_line+2]))\n",
    "    img0 = np.column_stack((img0[:,:corrupt_line], np.floor(np.median(kernel_col, axis=1)), img0[:,corrupt_line+1:]))\n",
    "    kernel_col2 = np.column_stack((img1[:,(corrupt_line-1)], img1[:,corrupt_line+2]))\n",
    "    img1 = np.column_stack((img1[:,:corrupt_line], np.floor(np.median(kernel_col, axis=1)), img1[:,corrupt_line+1:]))\n",
    "    # Export\n",
    "    tiff.imsave(os.path.join(nocorrdir, 'tomo_' + f'{i:04}' + '.tif'), img0)\n",
    "    tiff.imsave(os.path.join(nocorrdir, 'tomo_' + f'{(i+1):04}' + '.tif'), img1)\n"
   ]
  },
  {
   "cell_type": "code",
   "execution_count": null,
   "metadata": {},
   "outputs": [],
   "source": [
    "### --- TOMO\n",
    "\n",
    "tomo_list = os.listdir(nocorrdir)\n",
    "n_tomo = len(tomo_list)\n",
    "\n",
    "idx = 0\n",
    "for i in range(0,n_tomo-1,2):\n",
    "    print(tomo_list[i], '-',tomo_list[i+1])\n",
    "    tomo_i0 = tiff.imread(os.path.join(nocorrdir,tomo_list[i]))\n",
    "    tomo_i0 = np.divide((tomo_i0 - dark_mean), (flat_dark))\n",
    "    #showImage(tomo_i0, 'tomo init', 250)\n",
    "    tomo_i1 = tiff.imread(os.path.join(nocorrdir,tomo_list[i+1]))\n",
    "    tomo_i1 = np.divide((tomo_i1 - dark_mean), (flat_dark))\n",
    "    #showImage(tomo_i0, 'tomo init', 250)\n",
    "    tomo_img = (tomo_i0 + tomo_i1)/2\n",
    "    #showImage(tomo_img, 'tomo summed', 250)\n",
    "    tomo_img = rebin(tomo_img,2)\n",
    "    tomo_norm = (m*tomo_img)+q\n",
    "    #showImage(tomo_norm, 'tomo norm', 250)\n",
    "    tomo_def = np.rot90(np.uint16(tomo_norm))\n",
    "    #showImage(tomo_def, 'tomo final', 250)\n",
    "    tiff.imsave(os.path.join(outdir, 'tomo_' + f'{idx:04}' + '.tif'), tomo_def)\n",
    "    if i == n_tomo-1:\n",
    "        print('Conversione finita')\n",
    "        showImage(tomo_def, 'tomo ffc', 250)\n",
    "        break\n",
    "    idx += 1"
   ]
  },
  {
   "attachments": {},
   "cell_type": "markdown",
   "metadata": {},
   "source": [
    "DEBUG SESSION"
   ]
  },
  {
   "cell_type": "code",
   "execution_count": null,
   "metadata": {},
   "outputs": [],
   "source": [
    "corrupt_line = 1834\n",
    "tomo_list = os.listdir(tomodir)\n",
    "n_tomo = len(tomo_list)\n",
    "img0 = tiff.imread(os.path.join(tomodir, tomo_list[i]))\n",
    "#plt.imshow(img0[550:580,corrupt_line-1:corrupt_line+2]);\n",
    "kernel = np.column_stack((img0[:,(corrupt_line-1)], img0[:,corrupt_line+2]))\n",
    "print(kernel.shape)\n",
    "linea = np.floor(np.median(kernel, axis=1))\n",
    "print(linea.shape)\n",
    "# ricompose\n",
    "fin_img = np.column_stack((img0[:,:corrupt_line], linea, img0[:,corrupt_line+1:]))\n",
    "fig, (ax1, ax2) = plt.subplots(2)#(1, 2)\n",
    "fig.set_size_inches(18.5, 10.5)\n",
    "ax1.imshow(img0[550:580,1830:1850])\n",
    "print(fin_img.shape)\n",
    "ax2.imshow(fin_img[550:580,1830:1850])"
   ]
  },
  {
   "cell_type": "code",
   "execution_count": null,
   "metadata": {},
   "outputs": [],
   "source": [
    "### INUTILE\n",
    "tomo_list = os.listdir(tomodir)\n",
    "n_tomo = len(tomo_list)\n",
    "\n",
    "idx = 0\n",
    "extracted_lines = []\n",
    "for i in range(0,n_tomo,2):\n",
    "    img = tiff.imread(os.path.join(tomodir, tomo_list[i]))\n",
    "    line = img[:, 500]\n",
    "    extracted_lines.append(line)"
   ]
  }
 ],
 "metadata": {
  "kernelspec": {
   "display_name": "Python 3",
   "language": "python",
   "name": "python3"
  },
  "language_info": {
   "codemirror_mode": {
    "name": "ipython",
    "version": 3
   },
   "file_extension": ".py",
   "mimetype": "text/x-python",
   "name": "python",
   "nbconvert_exporter": "python",
   "pygments_lexer": "ipython3",
   "version": "3.9.10"
  },
  "orig_nbformat": 4
 },
 "nbformat": 4,
 "nbformat_minor": 2
}
